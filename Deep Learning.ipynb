{
 "cells": [
  {
   "cell_type": "markdown",
   "id": "8f9c4f93",
   "metadata": {},
   "source": [
    "<h1><center>League of Xtraordinary Data Scientists :)</center></h1>\n",
    "<h1><center>Deep Learning</center></h1>\n",
    "<center>By: Heera Lal</center>"
   ]
  },
  {
   "cell_type": "markdown",
   "id": "abcb9052",
   "metadata": {},
   "source": [
    "<h5><center>Comparison between TP, ML & DL</center></h5>"
   ]
  },
  {
   "cell_type": "markdown",
   "id": "d66e28dc",
   "metadata": {},
   "source": [
    "<img src=\"ml_dl1.svg\" alt=\"Italian Trulli\">"
   ]
  },
  {
   "cell_type": "markdown",
   "id": "2f5af0c2",
   "metadata": {},
   "source": [
    "# Hand on Deep Learning"
   ]
  },
  {
   "cell_type": "markdown",
   "id": "2c21815e",
   "metadata": {},
   "source": [
    "### Convert Celcius to Fahrenheit (°C to °F)"
   ]
  },
  {
   "cell_type": "markdown",
   "id": "edc2c1e8",
   "metadata": {},
   "source": [
    "<img src=\"tmp.svg\" alt=\"Italian Trulli\">"
   ]
  },
  {
   "cell_type": "markdown",
   "id": "ea66f4e9",
   "metadata": {},
   "source": [
    "<center>$ Fahrenheit = 1.8 * Celsius + 32 $<center>"
   ]
  },
  {
   "cell_type": "markdown",
   "id": "591d0480",
   "metadata": {},
   "source": [
    "### Single Neuron with Multiple Inputs"
   ]
  },
  {
   "cell_type": "markdown",
   "id": "98b13192",
   "metadata": {},
   "source": [
    "<img src=\"generic_model.jpeg\" alt=\"Italian Trulli\">"
   ]
  },
  {
   "cell_type": "markdown",
   "id": "75f2bf6e",
   "metadata": {},
   "source": [
    "### Single Neuron with Single Input"
   ]
  },
  {
   "cell_type": "markdown",
   "id": "ab930e63",
   "metadata": {},
   "source": [
    "<img src=\"our_model.svg\" alt=\"Italian Trulli\">"
   ]
  },
  {
   "cell_type": "markdown",
   "id": "6cac8ce1",
   "metadata": {},
   "source": [
    "<center>$  ŷ = (w * x) + (1 * b)$<center>\n",
    "<center>$ Fahrenheit = w * Celsius + b $<center>"
   ]
  },
  {
   "cell_type": "code",
   "execution_count": 1,
   "id": "181906a0",
   "metadata": {},
   "outputs": [
    {
     "name": "stdout",
     "output_type": "stream",
     "text": [
      "2.6.0\n"
     ]
    }
   ],
   "source": [
    "import numpy as np\n",
    "import random\n",
    "import tensorflow as tf\n",
    "print(tf.__version__)"
   ]
  },
  {
   "cell_type": "markdown",
   "id": "ff671a0d",
   "metadata": {},
   "source": [
    "### Data"
   ]
  },
  {
   "cell_type": "code",
   "execution_count": 2,
   "id": "4a020771",
   "metadata": {},
   "outputs": [
    {
     "data": {
      "text/plain": [
       "array([ 0,  3,  6,  9, 12, 15, 18, 21, 24, 27])"
      ]
     },
     "execution_count": 2,
     "metadata": {},
     "output_type": "execute_result"
    }
   ],
   "source": [
    "Celsius = np.array([i*3 for i in range(100)])\n",
    "Celsius[:10]"
   ]
  },
  {
   "cell_type": "code",
   "execution_count": 3,
   "id": "d538b34d",
   "metadata": {},
   "outputs": [
    {
     "data": {
      "text/plain": [
       "array([32. , 37.4, 42.8, 48.2, 53.6, 59. , 64.4, 69.8, 75.2, 80.6])"
      ]
     },
     "execution_count": 3,
     "metadata": {},
     "output_type": "execute_result"
    }
   ],
   "source": [
    "Fahrenheit = 1.8*Celsius + 32\n",
    "Fahrenheit[:10]"
   ]
  },
  {
   "cell_type": "markdown",
   "id": "ae9975bb",
   "metadata": {},
   "source": [
    "### Model"
   ]
  },
  {
   "cell_type": "code",
   "execution_count": 5,
   "id": "1da455a9",
   "metadata": {},
   "outputs": [],
   "source": [
    "model = tf.keras.Sequential([\n",
    "    tf.keras.layers.Dense(units =1,input_shape=(1,)),\n",
    "    ])"
   ]
  },
  {
   "cell_type": "code",
   "execution_count": 6,
   "id": "73b9fbd8",
   "metadata": {},
   "outputs": [
    {
     "name": "stdout",
     "output_type": "stream",
     "text": [
      "Model: \"sequential\"\n",
      "_________________________________________________________________\n",
      "Layer (type)                 Output Shape              Param #   \n",
      "=================================================================\n",
      "dense (Dense)                (None, 1)                 2         \n",
      "=================================================================\n",
      "Total params: 2\n",
      "Trainable params: 2\n",
      "Non-trainable params: 0\n",
      "_________________________________________________________________\n"
     ]
    }
   ],
   "source": [
    "model.summary()"
   ]
  },
  {
   "cell_type": "code",
   "execution_count": 7,
   "id": "020b4b8a",
   "metadata": {},
   "outputs": [
    {
     "data": {
      "text/plain": [
       "[array([[-1.2583486]], dtype=float32), array([0.], dtype=float32)]"
      ]
     },
     "execution_count": 7,
     "metadata": {},
     "output_type": "execute_result"
    }
   ],
   "source": [
    "model.get_weights()"
   ]
  },
  {
   "cell_type": "code",
   "execution_count": 9,
   "id": "d8a00cd5",
   "metadata": {},
   "outputs": [],
   "source": [
    "model.compile(optimizer=tf.keras.optimizers.RMSprop(),\n",
    "              loss=tf.keras.losses.MeanSquaredError())"
   ]
  },
  {
   "cell_type": "markdown",
   "id": "80809706",
   "metadata": {},
   "source": [
    "<center>$\\mathit{MSE}=\\frac{1}{m} \\sum_{i=1}^m (y_{i}-ŷ_{i})^2 \\\\[2ex]$<center>"
   ]
  },
  {
   "cell_type": "code",
   "execution_count": 10,
   "id": "32669603",
   "metadata": {},
   "outputs": [],
   "source": [
    "history = model.fit(Celsius, Fahrenheit, epochs=10000, verbose=0)"
   ]
  },
  {
   "cell_type": "code",
   "execution_count": 11,
   "id": "aeea302a",
   "metadata": {},
   "outputs": [
    {
     "data": {
      "text/plain": [
       "[array([[1.8000988]], dtype=float32), array([32.0002], dtype=float32)]"
      ]
     },
     "execution_count": 11,
     "metadata": {},
     "output_type": "execute_result"
    }
   ],
   "source": [
    "model.get_weights()"
   ]
  },
  {
   "cell_type": "code",
   "execution_count": 12,
   "id": "05621496",
   "metadata": {},
   "outputs": [
    {
     "name": "stdout",
     "output_type": "stream",
     "text": [
      "model weight w = [1.8000988]\n",
      "model weight b = [32.0002]\n"
     ]
    }
   ],
   "source": [
    "w, b = model.get_weights()\n",
    "print(f\"model weight w = {w[0]}\")\n",
    "print(f\"model weight b = {b}\")"
   ]
  },
  {
   "cell_type": "markdown",
   "id": "d7f79ae3",
   "metadata": {},
   "source": [
    "### Prediction"
   ]
  },
  {
   "cell_type": "code",
   "execution_count": 13,
   "id": "f78d2c79",
   "metadata": {},
   "outputs": [
    {
     "name": "stdout",
     "output_type": "stream",
     "text": [
      "Model Prediction :  [212.01007]\n",
      "Rule based or Actual :  212.0\n"
     ]
    }
   ],
   "source": [
    "C = 100\n",
    "pred = model.predict([C])\n",
    "print(\"Model Prediction : \",pred[0])\n",
    "F = 1.8*C + 32\n",
    "print(\"Rule based or Actual : \",F)"
   ]
  },
  {
   "cell_type": "markdown",
   "id": "e3380965",
   "metadata": {},
   "source": [
    "### Error plots"
   ]
  },
  {
   "cell_type": "code",
   "execution_count": 14,
   "id": "3d457a36",
   "metadata": {},
   "outputs": [
    {
     "data": {
      "image/png": "[encoded data removed]",
      "text/plain": [
       "<Figure size 1080x1080 with 1 Axes>"
      ]
     },
     "metadata": {
      "needs_background": "light"
     },
     "output_type": "display_data"
    },
    {
     "data": {
      "text/plain": [
       "<Figure size 432x288 with 0 Axes>"
      ]
     },
     "metadata": {},
     "output_type": "display_data"
    }
   ],
   "source": [
    "import matplotlib.pyplot as plt\n",
    "loss = history.history['loss']\n",
    "epochs = [i for i in range(len(loss))]\n",
    "plt.figure(figsize=(15,15))\n",
    "plt.plot(epochs, loss, 'r', label='MSE')\n",
    "plt.title('Error')\n",
    "plt.xlabel('Epochs')\n",
    "plt.ylabel('MSE')\n",
    "plt.legend(loc=0)\n",
    "plt.figure()\n",
    "plt.show()"
   ]
  },
  {
   "cell_type": "code",
   "execution_count": 15,
   "id": "e09669db",
   "metadata": {},
   "outputs": [
    {
     "data": {
      "image/png": "[encoded data removed]",
      "text/plain": [
       "<Figure size 1080x1080 with 1 Axes>"
      ]
     },
     "metadata": {
      "needs_background": "light"
     },
     "output_type": "display_data"
    },
    {
     "data": {
      "text/plain": [
       "<Figure size 432x288 with 0 Axes>"
      ]
     },
     "metadata": {},
     "output_type": "display_data"
    }
   ],
   "source": [
    "import matplotlib.pyplot as plt\n",
    "loss = history.history['loss'][-7000:]\n",
    "epochs = [i for i in range(len(loss))][-7000:]\n",
    "plt.figure(figsize=(15,15))\n",
    "plt.plot(epochs, loss, 'r', label='MSE')\n",
    "plt.title('Error')\n",
    "plt.xlabel('Epochs')\n",
    "plt.ylabel('MSE')\n",
    "plt.legend(loc=0)\n",
    "plt.figure()\n",
    "plt.show()"
   ]
  },
  {
   "cell_type": "code",
   "execution_count": 16,
   "id": "8215f091",
   "metadata": {},
   "outputs": [
    {
     "name": "stdout",
     "output_type": "stream",
     "text": [
      "Model: \"sequential_1\"\n",
      "_________________________________________________________________\n",
      "Layer (type)                 Output Shape              Param #   \n",
      "=================================================================\n",
      "dense_1 (Dense)              (None, 3)                 6         \n",
      "_________________________________________________________________\n",
      "dense_2 (Dense)              (None, 2)                 8         \n",
      "_________________________________________________________________\n",
      "dense_3 (Dense)              (None, 1)                 3         \n",
      "=================================================================\n",
      "Total params: 17\n",
      "Trainable params: 17\n",
      "Non-trainable params: 0\n",
      "_________________________________________________________________\n"
     ]
    }
   ],
   "source": [
    "l0 = tf.keras.layers.Dense(units =3,input_shape=(1,))\n",
    "l1 = tf.keras.layers.Dense(units =2)\n",
    "l2 = tf.keras.layers.Dense(units =1)\n",
    "model = tf.keras.Sequential([l0,l1,l2\n",
    "    ])\n",
    "model.summary()"
   ]
  },
  {
   "cell_type": "code",
   "execution_count": 17,
   "id": "045c67f7",
   "metadata": {},
   "outputs": [
    {
     "data": {
      "text/plain": [
       "[array([[ 0.8198699 , -0.11198187,  0.8319751 ]], dtype=float32),\n",
       " array([0., 0., 0.], dtype=float32),\n",
       " array([[ 0.9887366 , -0.3250836 ],\n",
       "        [-0.9540226 , -0.19398475],\n",
       "        [ 0.23783779, -0.04088759]], dtype=float32),\n",
       " array([0., 0.], dtype=float32),\n",
       " array([[ 0.2781453 ],\n",
       "        [-0.42716604]], dtype=float32),\n",
       " array([0.], dtype=float32)]"
      ]
     },
     "execution_count": 17,
     "metadata": {},
     "output_type": "execute_result"
    }
   ],
   "source": [
    "model.get_weights()"
   ]
  },
  {
   "cell_type": "code",
   "execution_count": 18,
   "id": "c2dfdccf",
   "metadata": {},
   "outputs": [],
   "source": [
    "model.compile(optimizer=tf.keras.optimizers.RMSprop(),\n",
    "              loss=tf.keras.losses.MeanSquaredError(),\n",
    "              metrics=['mse'])"
   ]
  },
  {
   "cell_type": "code",
   "execution_count": 19,
   "id": "80f92de4",
   "metadata": {},
   "outputs": [],
   "source": [
    "history = model.fit(Celsius, Fahrenheit, epochs=10000, verbose=0)"
   ]
  },
  {
   "cell_type": "code",
   "execution_count": 20,
   "id": "faac1f9c",
   "metadata": {},
   "outputs": [
    {
     "data": {
      "text/plain": [
       "[array([[ 0.856701  , -0.15320106,  0.8516813 ]], dtype=float32),\n",
       " array([ 5.427155 , -5.4373016,  5.413707 ], dtype=float32),\n",
       " array([[ 1.211859  , -0.5517211 ],\n",
       "        [-1.6218727 ,  0.47745103],\n",
       "        [ 0.45845827, -0.26502922]], dtype=float32),\n",
       " array([ 5.4373198, -5.439809 ], dtype=float32),\n",
       " array([[ 0.6730816 ],\n",
       "        [-0.87042177]], dtype=float32),\n",
       " array([5.4468875], dtype=float32)]"
      ]
     },
     "execution_count": 20,
     "metadata": {},
     "output_type": "execute_result"
    }
   ],
   "source": [
    "model.get_weights()"
   ]
  },
  {
   "cell_type": "code",
   "execution_count": 21,
   "id": "059e50d9",
   "metadata": {},
   "outputs": [
    {
     "name": "stdout",
     "output_type": "stream",
     "text": [
      "Model Prediction :  [212.02954]\n",
      "Rule based or Actual :  212.0\n"
     ]
    }
   ],
   "source": [
    "C = 100\n",
    "pred = model.predict([C])\n",
    "print(\"Model Prediction : \",pred[0])\n",
    "F = 1.8*C + 32\n",
    "print(\"Rule based or Actual : \",F)"
   ]
  },
  {
   "cell_type": "markdown",
   "id": "375b76df",
   "metadata": {},
   "source": [
    "<h3><center>Thank You!!<center><h3>"
   ]
  }
 ],
 "metadata": {
  "kernelspec": {
   "display_name": "Python 3",
   "language": "python",
   "name": "python3"
  },
  "language_info": {
   "codemirror_mode": {
    "name": "ipython",
    "version": 3
   },
   "file_extension": ".py",
   "mimetype": "text/x-python",
   "name": "python",
   "nbconvert_exporter": "python",
   "pygments_lexer": "ipython3",
   "version": "3.8.10"
  }
 },
 "nbformat": 4,
 "nbformat_minor": 5
}
